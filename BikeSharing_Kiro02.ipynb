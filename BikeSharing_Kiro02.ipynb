{
 "cells": [
  {
   "cell_type": "code",
   "execution_count": 160,
   "id": "38398f9d-ae81-4b00-9a43-44dfae30f013",
   "metadata": {},
   "outputs": [],
   "source": [
    "import numpy as np\n",
    "import pandas as pd\n",
    "import random as rnd\n",
    "import seaborn as sns\n",
    "import matplotlib.pyplot as plt"
   ]
  },
  {
   "cell_type": "code",
   "execution_count": 161,
   "id": "7937daf2-f9fc-4c2f-95c7-4bbc6337fd18",
   "metadata": {},
   "outputs": [],
   "source": [
    "df = pd.read_csv('input/train.csv')"
   ]
  },
  {
   "cell_type": "code",
   "execution_count": 162,
   "id": "3d1db6f2-bab0-44b3-bb85-dbd7ada23cff",
   "metadata": {},
   "outputs": [],
   "source": [
    "df['datetime'] = pd.to_datetime(df['datetime'])\n",
    "df['year'] = pd.to_datetime(df['datetime']).dt.strftime('%Y')\n",
    "df['month'] = pd.to_datetime(df['datetime']).dt.strftime('%m')\n",
    "df['day'] = pd.to_datetime(df['datetime']).dt.strftime('%d')\n",
    "df['weekday'] = pd.to_datetime(df['datetime']).dt.strftime('%a')\n",
    "df['hour'] = pd.to_datetime(df['datetime']).dt.strftime('%H')"
   ]
  },
  {
   "cell_type": "code",
   "execution_count": 163,
   "id": "504db0b3-7342-4512-9453-31cae2da074f",
   "metadata": {},
   "outputs": [],
   "source": [
    "# plt.figure(figsize=(12, 9))\n",
    "# sns.heatmap(df.corr(), annot=True, square=True, fmt='.2f')\n",
    "# plt.show()"
   ]
  },
  {
   "cell_type": "code",
   "execution_count": 164,
   "id": "fcf6db28-80d2-4107-94e5-261d8d8de848",
   "metadata": {},
   "outputs": [],
   "source": [
    "X = df.loc[:,[\"temp\",\"humidity\",\"hour\"]].values\n",
    "y = df.loc[:,[\"count\"]].values"
   ]
  },
  {
   "cell_type": "code",
   "execution_count": 165,
   "id": "f8296612-8405-4577-866d-5d69e1107a3c",
   "metadata": {},
   "outputs": [],
   "source": [
    "from sklearn.model_selection import train_test_split\n",
    "X_train, X_test, y_train, y_test = train_test_split(X, y, test_size = 0.3, random_state = 0)"
   ]
  },
  {
   "cell_type": "code",
   "execution_count": 166,
   "id": "48e556f3-c9ea-48a8-80af-be6d1956b0ec",
   "metadata": {},
   "outputs": [],
   "source": [
    "from sklearn.linear_model import LinearRegression\n",
    "from sklearn.linear_model import Lasso                         # LASSO回帰のクラスを読み込み\n",
    "lr = LinearRegression()\n",
    "lr = lr.fit(X_train, y_train)\n",
    "model_lasso = Lasso(alpha=10)                                # LASSO回帰のインスタンスを生成\n",
    "lr = model_lasso.fit(X_train, y_train)                                      # データを学習させる"
   ]
  },
  {
   "cell_type": "code",
   "execution_count": 167,
   "id": "610485f8-0d08-4e68-9aae-56812cedb357",
   "metadata": {},
   "outputs": [],
   "source": [
    "def rmsle(real, predicted):\n",
    "    sum=0.0\n",
    "    for x in range(len(predicted)):\n",
    "        if predicted[x]<0 or real[x]<0: #check for negative values\n",
    "            continue\n",
    "        p = np.log(predicted[x]+1)\n",
    "        r = np.log(real[x]+1)\n",
    "        sum = sum + (p - r)**2\n",
    "    return (sum/len(predicted))**0.5"
   ]
  },
  {
   "cell_type": "code",
   "execution_count": 168,
   "id": "b006208d-e82c-4d11-9b44-fc7467e35f47",
   "metadata": {},
   "outputs": [
    {
     "name": "stdout",
     "output_type": "stream",
     "text": [
      "test:  [1.18659002]\n",
      "train:  [1.19573655]\n"
     ]
    }
   ],
   "source": [
    "print(\"test: \",rmsle(y_test, lr.predict(X_test)))\n",
    "print(\"train: \",rmsle(y_train, lr.predict(X_train)))"
   ]
  },
  {
   "cell_type": "code",
   "execution_count": 169,
   "id": "3110f116-def6-4390-ab85-3cf8e8df4fd6",
   "metadata": {},
   "outputs": [
    {
     "data": {
      "text/html": [
       "<div>\n",
       "<style scoped>\n",
       "    .dataframe tbody tr th:only-of-type {\n",
       "        vertical-align: middle;\n",
       "    }\n",
       "\n",
       "    .dataframe tbody tr th {\n",
       "        vertical-align: top;\n",
       "    }\n",
       "\n",
       "    .dataframe thead th {\n",
       "        text-align: right;\n",
       "    }\n",
       "</style>\n",
       "<table border=\"1\" class=\"dataframe\">\n",
       "  <thead>\n",
       "    <tr style=\"text-align: right;\">\n",
       "      <th></th>\n",
       "      <th>0</th>\n",
       "    </tr>\n",
       "  </thead>\n",
       "  <tbody>\n",
       "    <tr>\n",
       "      <th>count</th>\n",
       "      <td>3266.000000</td>\n",
       "    </tr>\n",
       "    <tr>\n",
       "      <th>mean</th>\n",
       "      <td>192.309685</td>\n",
       "    </tr>\n",
       "    <tr>\n",
       "      <th>std</th>\n",
       "      <td>101.284607</td>\n",
       "    </tr>\n",
       "    <tr>\n",
       "      <th>min</th>\n",
       "      <td>-56.587841</td>\n",
       "    </tr>\n",
       "    <tr>\n",
       "      <th>25%</th>\n",
       "      <td>112.240058</td>\n",
       "    </tr>\n",
       "    <tr>\n",
       "      <th>50%</th>\n",
       "      <td>191.377789</td>\n",
       "    </tr>\n",
       "    <tr>\n",
       "      <th>75%</th>\n",
       "      <td>268.875014</td>\n",
       "    </tr>\n",
       "    <tr>\n",
       "      <th>max</th>\n",
       "      <td>447.136817</td>\n",
       "    </tr>\n",
       "  </tbody>\n",
       "</table>\n",
       "</div>"
      ],
      "text/plain": [
       "                 0\n",
       "count  3266.000000\n",
       "mean    192.309685\n",
       "std     101.284607\n",
       "min     -56.587841\n",
       "25%     112.240058\n",
       "50%     191.377789\n",
       "75%     268.875014\n",
       "max     447.136817"
      ]
     },
     "execution_count": 169,
     "metadata": {},
     "output_type": "execute_result"
    }
   ],
   "source": [
    "test_result = pd.DataFrame(lr.predict(X_test))\n",
    "test_result.describe()"
   ]
  },
  {
   "cell_type": "code",
   "execution_count": null,
   "id": "d2bcc377-4950-4c9b-bdd4-f51c9a9780fd",
   "metadata": {},
   "outputs": [],
   "source": []
  }
 ],
 "metadata": {
  "kernelspec": {
   "display_name": "Python 3 (ipykernel)",
   "language": "python",
   "name": "python3"
  },
  "language_info": {
   "codemirror_mode": {
    "name": "ipython",
    "version": 3
   },
   "file_extension": ".py",
   "mimetype": "text/x-python",
   "name": "python",
   "nbconvert_exporter": "python",
   "pygments_lexer": "ipython3",
   "version": "3.9.7"
  }
 },
 "nbformat": 4,
 "nbformat_minor": 5
}
