{
 "cells": [
  {
   "cell_type": "code",
   "execution_count": 205,
   "id": "38398f9d-ae81-4b00-9a43-44dfae30f013",
   "metadata": {},
   "outputs": [],
   "source": [
    "import numpy as np\n",
    "import pandas as pd\n",
    "import random as rnd\n",
    "import seaborn as sns\n",
    "import matplotlib.pyplot as plt"
   ]
  },
  {
   "cell_type": "code",
   "execution_count": 206,
   "id": "7937daf2-f9fc-4c2f-95c7-4bbc6337fd18",
   "metadata": {},
   "outputs": [],
   "source": [
    "df = pd.read_csv('input/train.csv')"
   ]
  },
  {
   "cell_type": "code",
   "execution_count": 207,
   "id": "3d1db6f2-bab0-44b3-bb85-dbd7ada23cff",
   "metadata": {},
   "outputs": [],
   "source": [
    "df['datetime'] = pd.to_datetime(df['datetime'])\n",
    "df['year'] = pd.to_datetime(df['datetime']).dt.strftime('%Y')\n",
    "df['month'] = pd.to_datetime(df['datetime']).dt.strftime('%m')\n",
    "df['day'] = pd.to_datetime(df['datetime']).dt.strftime('%d')\n",
    "df['weekday'] = pd.to_datetime(df['datetime']).dt.strftime('%a')\n",
    "df['hour'] = pd.to_datetime(df['datetime']).dt.strftime('%H')"
   ]
  },
  {
   "cell_type": "code",
   "execution_count": 208,
   "id": "fcf6db28-80d2-4107-94e5-261d8d8de848",
   "metadata": {},
   "outputs": [],
   "source": [
    "X = df.loc[:,[\"temp\",'humidity',\"hour\",'hour']].values\n",
    "# X = df.loc[:,[\"temp\"]].values\n",
    "y = df.loc[:,[\"count\"]].values"
   ]
  },
  {
   "cell_type": "code",
   "execution_count": null,
   "id": "00a575f1-3b30-42dc-9763-be5f79c2d1e7",
   "metadata": {},
   "outputs": [],
   "source": []
  },
  {
   "cell_type": "code",
   "execution_count": 209,
   "id": "238388af-470f-4828-9653-f11ff8108f80",
   "metadata": {},
   "outputs": [],
   "source": [
    "from sklearn.model_selection import train_test_split\n",
    "X_train, X_test, y_train, y_test = train_test_split(X, y, test_size=0.3, random_state=0)"
   ]
  },
  {
   "cell_type": "code",
   "execution_count": 210,
   "id": "fb4ba5df-6ffc-4359-b5b3-9c4976c2deeb",
   "metadata": {},
   "outputs": [
    {
     "name": "stdout",
     "output_type": "stream",
     "text": [
      "[ 7.85477238 -2.00342449  7.69300014]\n",
      "[67.23209434]\n",
      "22853.56594196735\n"
     ]
    }
   ],
   "source": [
    "from sklearn.linear_model import ElasticNet\n",
    "from sklearn.preprocessing import StandardScaler\n",
    "  \n",
    "#ElasticNet\n",
    "clf = ElasticNet(alpha = 0.5).fit(X_train, y_train)\n",
    "print(clf.coef_)\n",
    "print(clf.intercept_)\n",
    "print(mse)\n",
    "y_pred = clf.predict(scaler.transform(X_test))"
   ]
  },
  {
   "cell_type": "code",
   "execution_count": 211,
   "id": "72b7ff13-d9ee-4cb0-ac8a-5692e5539c33",
   "metadata": {},
   "outputs": [],
   "source": [
    "# #Lasso回帰\n",
    "# from sklearn.preprocessing import StandardScaler\n",
    "# from sklearn.linear_model import LassoCV\n",
    "# from sklearn.metrics import mean_squared_error\n",
    "\n",
    "# scaler = StandardScaler()\n",
    "# clf = Lasso(alpha=10) #正則化パラメータ\n",
    "\n",
    "# scaler.fit(X_train)\n",
    "# clf.fit(scaler.transform(X_train), y_train)\n",
    "\n",
    "# y_pred = clf.predict(scaler.transform(X_test))\n",
    "# mse = mean_squared_error(y_test, y_pred)\n",
    "\n",
    "# # print(clf.alpha_)\n",
    "# print(clf.coef_)\n",
    "# print(clf.intercept_)\n",
    "# print(mse)"
   ]
  },
  {
   "cell_type": "code",
   "execution_count": 212,
   "id": "a1fe255f-8e56-406d-8a29-953c6cc8fd95",
   "metadata": {},
   "outputs": [
    {
     "data": {
      "image/png": "[encoded data removed]",
      "text/plain": [
       "<Figure size 432x288 with 1 Axes>"
      ]
     },
     "metadata": {
      "needs_background": "light"
     },
     "output_type": "display_data"
    }
   ],
   "source": [
    "from matplotlib import pyplot as plt\n",
    "plt.scatter(y_pred, y_test)\n",
    "plt.xlabel('predicted')\n",
    "plt.ylabel('true')\n",
    "plt.show()"
   ]
  },
  {
   "cell_type": "code",
   "execution_count": 213,
   "id": "b006208d-e82c-4d11-9b44-fc7467e35f47",
   "metadata": {},
   "outputs": [
    {
     "name": "stdout",
     "output_type": "stream",
     "text": [
      "test:  [1.18673696]\n",
      "train:  [1.1921663]\n"
     ]
    }
   ],
   "source": [
    "def rmsle(real, predicted):\n",
    "    sum=0.0\n",
    "    for x in range(len(predicted)):\n",
    "        if predicted[x]<0 or real[x]<0: #check for negative values\n",
    "            continue\n",
    "        p = np.log(predicted[x]+1)\n",
    "        r = np.log(real[x]+1)\n",
    "        sum = sum + (p - r)**2\n",
    "    return (sum/len(predicted))**0.5\n",
    "print(\"test: \",rmsle(y_test, clf.predict(X_test)))\n",
    "print(\"train: \",rmsle(y_train, clf.predict(X_train)))"
   ]
  },
  {
   "cell_type": "code",
   "execution_count": 214,
   "id": "06f188db-653c-45e0-bfcd-ea0e54f34661",
   "metadata": {},
   "outputs": [
    {
     "data": {
      "text/html": [
       "<div>\n",
       "<style scoped>\n",
       "    .dataframe tbody tr th:only-of-type {\n",
       "        vertical-align: middle;\n",
       "    }\n",
       "\n",
       "    .dataframe tbody tr th {\n",
       "        vertical-align: top;\n",
       "    }\n",
       "\n",
       "    .dataframe thead th {\n",
       "        text-align: right;\n",
       "    }\n",
       "</style>\n",
       "<table border=\"1\" class=\"dataframe\">\n",
       "  <thead>\n",
       "    <tr style=\"text-align: right;\">\n",
       "      <th></th>\n",
       "      <th>0</th>\n",
       "    </tr>\n",
       "  </thead>\n",
       "  <tbody>\n",
       "    <tr>\n",
       "      <th>count</th>\n",
       "      <td>7620.000000</td>\n",
       "    </tr>\n",
       "    <tr>\n",
       "      <th>mean</th>\n",
       "      <td>190.349869</td>\n",
       "    </tr>\n",
       "    <tr>\n",
       "      <th>std</th>\n",
       "      <td>181.530697</td>\n",
       "    </tr>\n",
       "    <tr>\n",
       "      <th>min</th>\n",
       "      <td>1.000000</td>\n",
       "    </tr>\n",
       "    <tr>\n",
       "      <th>25%</th>\n",
       "      <td>42.000000</td>\n",
       "    </tr>\n",
       "    <tr>\n",
       "      <th>50%</th>\n",
       "      <td>141.000000</td>\n",
       "    </tr>\n",
       "    <tr>\n",
       "      <th>75%</th>\n",
       "      <td>283.000000</td>\n",
       "    </tr>\n",
       "    <tr>\n",
       "      <th>max</th>\n",
       "      <td>977.000000</td>\n",
       "    </tr>\n",
       "  </tbody>\n",
       "</table>\n",
       "</div>"
      ],
      "text/plain": [
       "                 0\n",
       "count  7620.000000\n",
       "mean    190.349869\n",
       "std     181.530697\n",
       "min       1.000000\n",
       "25%      42.000000\n",
       "50%     141.000000\n",
       "75%     283.000000\n",
       "max     977.000000"
      ]
     },
     "execution_count": 214,
     "metadata": {},
     "output_type": "execute_result"
    }
   ],
   "source": [
    "y_t = pd.DataFrame(y_train)\n",
    "y_t.describe()"
   ]
  },
  {
   "cell_type": "code",
   "execution_count": 215,
   "id": "3110f116-def6-4390-ab85-3cf8e8df4fd6",
   "metadata": {},
   "outputs": [
    {
     "data": {
      "text/html": [
       "<div>\n",
       "<style scoped>\n",
       "    .dataframe tbody tr th:only-of-type {\n",
       "        vertical-align: middle;\n",
       "    }\n",
       "\n",
       "    .dataframe tbody tr th {\n",
       "        vertical-align: top;\n",
       "    }\n",
       "\n",
       "    .dataframe thead th {\n",
       "        text-align: right;\n",
       "    }\n",
       "</style>\n",
       "<table border=\"1\" class=\"dataframe\">\n",
       "  <thead>\n",
       "    <tr style=\"text-align: right;\">\n",
       "      <th></th>\n",
       "      <th>0</th>\n",
       "    </tr>\n",
       "  </thead>\n",
       "  <tbody>\n",
       "    <tr>\n",
       "      <th>count</th>\n",
       "      <td>3266.000000</td>\n",
       "    </tr>\n",
       "    <tr>\n",
       "      <th>mean</th>\n",
       "      <td>67.457972</td>\n",
       "    </tr>\n",
       "    <tr>\n",
       "      <th>std</th>\n",
       "      <td>12.407810</td>\n",
       "    </tr>\n",
       "    <tr>\n",
       "      <th>min</th>\n",
       "      <td>36.675059</td>\n",
       "    </tr>\n",
       "    <tr>\n",
       "      <th>25%</th>\n",
       "      <td>57.807916</td>\n",
       "    </tr>\n",
       "    <tr>\n",
       "      <th>50%</th>\n",
       "      <td>67.556178</td>\n",
       "    </tr>\n",
       "    <tr>\n",
       "      <th>75%</th>\n",
       "      <td>77.207499</td>\n",
       "    </tr>\n",
       "    <tr>\n",
       "      <th>max</th>\n",
       "      <td>96.396058</td>\n",
       "    </tr>\n",
       "  </tbody>\n",
       "</table>\n",
       "</div>"
      ],
      "text/plain": [
       "                 0\n",
       "count  3266.000000\n",
       "mean     67.457972\n",
       "std      12.407810\n",
       "min      36.675059\n",
       "25%      57.807916\n",
       "50%      67.556178\n",
       "75%      77.207499\n",
       "max      96.396058"
      ]
     },
     "execution_count": 215,
     "metadata": {},
     "output_type": "execute_result"
    }
   ],
   "source": [
    "y_p = pd.DataFrame(y_pred)\n",
    "y_p.describe()"
   ]
  },
  {
   "cell_type": "code",
   "execution_count": null,
   "id": "16c41721-9566-494e-b3e5-1ff500a7de98",
   "metadata": {},
   "outputs": [],
   "source": []
  }
 ],
 "metadata": {
  "kernelspec": {
   "display_name": "Python 3 (ipykernel)",
   "language": "python",
   "name": "python3"
  },
  "language_info": {
   "codemirror_mode": {
    "name": "ipython",
    "version": 3
   },
   "file_extension": ".py",
   "mimetype": "text/x-python",
   "name": "python",
   "nbconvert_exporter": "python",
   "pygments_lexer": "ipython3",
   "version": "3.9.7"
  }
 },
 "nbformat": 4,
 "nbformat_minor": 5
}
