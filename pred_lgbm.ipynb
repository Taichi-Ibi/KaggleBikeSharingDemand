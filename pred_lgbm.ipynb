{
 "cells": [
  {
   "cell_type": "markdown",
   "id": "5a467dec-ab65-499b-8fe3-4ce3ec7126aa",
   "metadata": {},
   "source": [
    "## ライブラリのインポート"
   ]
  },
  {
   "cell_type": "code",
   "execution_count": 1415,
   "id": "38398f9d-ae81-4b00-9a43-44dfae30f013",
   "metadata": {},
   "outputs": [],
   "source": [
    "import numpy as np\n",
    "import pandas as pd\n",
    "import matplotlib.pyplot as plt\n",
    "import lightgbm as lgb\n",
    "from sklearn.preprocessing import LabelEncoder\n",
    "from sklearn.model_selection import train_test_split"
   ]
  },
  {
   "cell_type": "markdown",
   "id": "b9b5f1e0-5c7e-4651-a109-03497e6f2adc",
   "metadata": {},
   "source": [
    "## データの読み込み"
   ]
  },
  {
   "cell_type": "code",
   "execution_count": 1416,
   "id": "7937daf2-f9fc-4c2f-95c7-4bbc6337fd18",
   "metadata": {},
   "outputs": [],
   "source": [
    "train = pd.read_csv('input/train.csv')\n",
    "test = pd.read_csv('input/test.csv')\n",
    "df = pd.concat([train, test], axis=0, ignore_index=True)\n",
    "# train.head()"
   ]
  },
  {
   "cell_type": "markdown",
   "id": "12b2a991-0703-468d-aee2-2d2413161997",
   "metadata": {},
   "source": [
    "## 前処理"
   ]
  },
  {
   "cell_type": "code",
   "execution_count": 1417,
   "id": "3d1db6f2-bab0-44b3-bb85-dbd7ada23cff",
   "metadata": {},
   "outputs": [
    {
     "data": {
      "text/plain": [
       "Index(['datetime', 'season', 'holiday', 'workingday', 'weather', 'temp',\n",
       "       'atemp', 'humidity', 'windspeed', 'casual', 'registered', 'count',\n",
       "       'year', 'month', 'day', 'weekday', 'hour', 'moving_ave_14'],\n",
       "      dtype='object')"
      ]
     },
     "execution_count": 1417,
     "metadata": {},
     "output_type": "execute_result"
    }
   ],
   "source": [
    "df['datetime'] = pd.to_datetime(df['datetime'])\n",
    "df['year'] = pd.to_datetime(df['datetime']).dt.strftime('%Y')\n",
    "df['month'] = pd.to_datetime(df['datetime']).dt.strftime('%m')\n",
    "df['day'] = pd.to_datetime(df['datetime']).dt.strftime('%d')\n",
    "df['weekday'] = pd.to_datetime(df['datetime']).dt.strftime('%a')\n",
    "df['hour'] = pd.to_datetime(df['datetime']).dt.strftime('%H')\n",
    "\n",
    "df = df.sort_values('datetime')\n",
    "# df['moving_ave_7'] = df['count'].rolling(window= 7, center=True).mean() # 7日間移動平均\n",
    "df['moving_ave_14'] = df['count'].rolling(window=14, center=True).mean() #14日間移動平均\n",
    "# df.dropna(inplace=True)\n",
    "\n",
    "df.columns"
   ]
  },
  {
   "cell_type": "code",
   "execution_count": 1418,
   "id": "faf4f644-f250-45a7-9ab7-e8728b5a0201",
   "metadata": {},
   "outputs": [],
   "source": [
    "# df.iloc[400:450,:]"
   ]
  },
  {
   "cell_type": "markdown",
   "id": "ee702cdc-5e04-4618-b6ba-3d0752cb6132",
   "metadata": {},
   "source": [
    "## カラムの選択"
   ]
  },
  {
   "cell_type": "code",
   "execution_count": 1419,
   "id": "576168f3-e2a8-47a3-83fe-e64a5533971e",
   "metadata": {},
   "outputs": [],
   "source": [
    "df = df[\n",
    "    [\n",
    "        # 'datetime',\n",
    "        'temp',    \n",
    "        # 'humidity',\n",
    "        # 'windspeed',\n",
    "        'holiday',\n",
    "        'workingday',\n",
    "        'weather',\n",
    "        # 'month',\n",
    "        'weekday',\n",
    "        'hour',\n",
    "        'count',\n",
    "        # 'moving_ave_7',\n",
    "        # 'moving_ave_14',\n",
    "    ]\n",
    "]"
   ]
  },
  {
   "cell_type": "code",
   "execution_count": 1420,
   "id": "455a44c0-9931-44d6-a54b-6463ead0eb15",
   "metadata": {},
   "outputs": [],
   "source": [
    "df = pd.get_dummies(df, columns=[\n",
    "    # 'month',\n",
    "    'weekday',\n",
    "    'hour',\n",
    "    'weather',\n",
    "])"
   ]
  },
  {
   "cell_type": "code",
   "execution_count": 1421,
   "id": "7c54ac52-2c5b-44ef-9c48-42e0b8ef6c47",
   "metadata": {},
   "outputs": [],
   "source": [
    "# # 対数変換\n",
    "# df['count'] = np.log(df['count']+1)"
   ]
  },
  {
   "cell_type": "markdown",
   "id": "aaeea3f2-a873-4739-9907-4d6f69d91635",
   "metadata": {},
   "source": [
    "## 学習データの準備"
   ]
  },
  {
   "cell_type": "code",
   "execution_count": 1422,
   "id": "46441ed6-b037-4119-bb50-91b441035ba7",
   "metadata": {},
   "outputs": [
    {
     "data": {
      "text/plain": [
       "Index(['temp', 'holiday', 'workingday', 'count', 'weekday_Fri', 'weekday_Mon',\n",
       "       'weekday_Sat', 'weekday_Sun', 'weekday_Thu', 'weekday_Tue',\n",
       "       'weekday_Wed', 'hour_00', 'hour_01', 'hour_02', 'hour_03', 'hour_04',\n",
       "       'hour_05', 'hour_06', 'hour_07', 'hour_08', 'hour_09', 'hour_10',\n",
       "       'hour_11', 'hour_12', 'hour_13', 'hour_14', 'hour_15', 'hour_16',\n",
       "       'hour_17', 'hour_18', 'hour_19', 'hour_20', 'hour_21', 'hour_22',\n",
       "       'hour_23', 'weather_1', 'weather_2', 'weather_3', 'weather_4'],\n",
       "      dtype='object')"
      ]
     },
     "execution_count": 1422,
     "metadata": {},
     "output_type": "execute_result"
    }
   ],
   "source": [
    "df.columns"
   ]
  },
  {
   "cell_type": "code",
   "execution_count": 1423,
   "id": "1b9b546c-01ee-42dc-be17-c1b1926895fd",
   "metadata": {},
   "outputs": [],
   "source": [
    "df = df.sort_index()"
   ]
  },
  {
   "cell_type": "code",
   "execution_count": 1424,
   "id": "e8547a61-3a8d-4c73-ba10-9a752aa4c1db",
   "metadata": {},
   "outputs": [],
   "source": [
    "train = df.iloc[:len(train),:].copy()\n",
    "train['count'] = train['count'].astype('int64')"
   ]
  },
  {
   "cell_type": "code",
   "execution_count": 1425,
   "id": "c645a903-0143-4122-a11e-c3958d3ce0a2",
   "metadata": {},
   "outputs": [],
   "source": [
    "test = df.iloc[len(train):,:].copy()\n",
    "test.drop(['count'], axis=1, inplace=True)\n",
    "test = test.reset_index(drop=True)"
   ]
  },
  {
   "cell_type": "code",
   "execution_count": 1426,
   "id": "fcf6db28-80d2-4107-94e5-261d8d8de848",
   "metadata": {},
   "outputs": [],
   "source": [
    "y = train.loc[:,[\"count\"]].values\n",
    "train.drop(['count'], axis=1, inplace=True)\n",
    "X = train.values"
   ]
  },
  {
   "cell_type": "code",
   "execution_count": 1427,
   "id": "238388af-470f-4828-9653-f11ff8108f80",
   "metadata": {},
   "outputs": [],
   "source": [
    "X_train, X_test, y_train, y_test = train_test_split(X, y, test_size=0.25, random_state=0)\n",
    "y_train = y_train.ravel()   # 1    2d array -> 1d array \n",
    "y_test  = y_test.ravel()    # 2    2d array -> 1d array "
   ]
  },
  {
   "cell_type": "markdown",
   "id": "d25b792f-9afb-4a71-8f58-afb3eeac684e",
   "metadata": {},
   "source": [
    "## モデル構築"
   ]
  },
  {
   "cell_type": "code",
   "execution_count": 1428,
   "id": "a62fe02c-c1d0-4367-a8a6-2f956e04ff1a",
   "metadata": {},
   "outputs": [
    {
     "name": "stderr",
     "output_type": "stream",
     "text": [
      "/Users/estyle-085/opt/anaconda3/envs/Kenshu/lib/python3.9/site-packages/lightgbm/engine.py:177: UserWarning: Found `num_iterations` in params. Will use it instead of argument\n",
      "  _log_warning(f\"Found `{alias}` in params. Will use it instead of argument\")\n"
     ]
    },
    {
     "name": "stdout",
     "output_type": "stream",
     "text": [
      "[1]\tvalid_0's l2: 29574.5\n",
      "Training until validation scores don't improve for 20 rounds\n",
      "[2]\tvalid_0's l2: 27199.2\n",
      "[3]\tvalid_0's l2: 25382.1\n",
      "[4]\tvalid_0's l2: 23312.5\n",
      "[5]\tvalid_0's l2: 21623.8\n",
      "[6]\tvalid_0's l2: 20234\n",
      "[7]\tvalid_0's l2: 19120.8\n",
      "[8]\tvalid_0's l2: 18076\n",
      "[9]\tvalid_0's l2: 17179.7\n",
      "[10]\tvalid_0's l2: 16355.6\n",
      "[11]\tvalid_0's l2: 15667.2\n",
      "[12]\tvalid_0's l2: 15064.6\n",
      "[13]\tvalid_0's l2: 14472.7\n",
      "[14]\tvalid_0's l2: 14010.9\n",
      "[15]\tvalid_0's l2: 13496.7\n",
      "[16]\tvalid_0's l2: 13111.1\n",
      "[17]\tvalid_0's l2: 12734.9\n",
      "[18]\tvalid_0's l2: 12357.6\n",
      "[19]\tvalid_0's l2: 12053.6\n",
      "[20]\tvalid_0's l2: 11791.3\n",
      "[21]\tvalid_0's l2: 11574.7\n",
      "[22]\tvalid_0's l2: 11235.3\n",
      "[23]\tvalid_0's l2: 10976.3\n",
      "[24]\tvalid_0's l2: 10780.1\n",
      "[25]\tvalid_0's l2: 10597.1\n",
      "[26]\tvalid_0's l2: 10437.9\n",
      "[27]\tvalid_0's l2: 10292.6\n",
      "[28]\tvalid_0's l2: 10014.8\n",
      "[29]\tvalid_0's l2: 9890.16\n",
      "[30]\tvalid_0's l2: 9664.83\n",
      "[31]\tvalid_0's l2: 9563.3\n",
      "[32]\tvalid_0's l2: 9475.42\n",
      "[33]\tvalid_0's l2: 9371.91\n",
      "[34]\tvalid_0's l2: 9162.91\n",
      "[35]\tvalid_0's l2: 8974.52\n",
      "[36]\tvalid_0's l2: 8911.85\n",
      "[37]\tvalid_0's l2: 8805.21\n",
      "[38]\tvalid_0's l2: 8747.72\n",
      "[39]\tvalid_0's l2: 8491.34\n",
      "[40]\tvalid_0's l2: 8363.74\n",
      "[41]\tvalid_0's l2: 8299.74\n",
      "[42]\tvalid_0's l2: 8232.09\n",
      "[43]\tvalid_0's l2: 8196.01\n",
      "[44]\tvalid_0's l2: 8150.71\n",
      "[45]\tvalid_0's l2: 8121.86\n",
      "[46]\tvalid_0's l2: 7944.17\n",
      "[47]\tvalid_0's l2: 7871.4\n",
      "[48]\tvalid_0's l2: 7716.75\n",
      "[49]\tvalid_0's l2: 7618.35\n",
      "[50]\tvalid_0's l2: 7547.63\n",
      "[51]\tvalid_0's l2: 7507.36\n",
      "[52]\tvalid_0's l2: 7450.52\n",
      "[53]\tvalid_0's l2: 7428.54\n",
      "[54]\tvalid_0's l2: 7375.97\n",
      "[55]\tvalid_0's l2: 7362.32\n",
      "[56]\tvalid_0's l2: 7342.41\n",
      "[57]\tvalid_0's l2: 7295.96\n",
      "[58]\tvalid_0's l2: 7282.62\n",
      "[59]\tvalid_0's l2: 7260.43\n",
      "[60]\tvalid_0's l2: 7242.62\n",
      "[61]\tvalid_0's l2: 7173.84\n",
      "[62]\tvalid_0's l2: 7116.21\n",
      "[63]\tvalid_0's l2: 7110.36\n",
      "[64]\tvalid_0's l2: 7092.2\n",
      "[65]\tvalid_0's l2: 7081.73\n",
      "[66]\tvalid_0's l2: 7063.72\n",
      "[67]\tvalid_0's l2: 7055.5\n",
      "[68]\tvalid_0's l2: 7047.86\n",
      "[69]\tvalid_0's l2: 7007.53\n",
      "[70]\tvalid_0's l2: 6997.32\n",
      "[71]\tvalid_0's l2: 6947.98\n",
      "[72]\tvalid_0's l2: 6915.19\n",
      "[73]\tvalid_0's l2: 6908.85\n",
      "[74]\tvalid_0's l2: 6869.23\n",
      "[75]\tvalid_0's l2: 6859.63\n",
      "[76]\tvalid_0's l2: 6853.62\n",
      "[77]\tvalid_0's l2: 6832.99\n",
      "[78]\tvalid_0's l2: 6803.04\n",
      "[79]\tvalid_0's l2: 6786.4\n",
      "[80]\tvalid_0's l2: 6773.84\n",
      "[81]\tvalid_0's l2: 6767.99\n",
      "[82]\tvalid_0's l2: 6749.73\n",
      "[83]\tvalid_0's l2: 6736.55\n",
      "[84]\tvalid_0's l2: 6732.59\n",
      "[85]\tvalid_0's l2: 6691.29\n",
      "[86]\tvalid_0's l2: 6627.89\n",
      "[87]\tvalid_0's l2: 6615.98\n",
      "[88]\tvalid_0's l2: 6583.56\n",
      "[89]\tvalid_0's l2: 6555.41\n",
      "[90]\tvalid_0's l2: 6532.3\n",
      "[91]\tvalid_0's l2: 6524.75\n",
      "[92]\tvalid_0's l2: 6510.58\n",
      "[93]\tvalid_0's l2: 6476.31\n",
      "[94]\tvalid_0's l2: 6475.54\n",
      "[95]\tvalid_0's l2: 6439.2\n",
      "[96]\tvalid_0's l2: 6437.78\n",
      "[97]\tvalid_0's l2: 6439.04\n",
      "[98]\tvalid_0's l2: 6409.81\n",
      "[99]\tvalid_0's l2: 6392.58\n",
      "[100]\tvalid_0's l2: 6382.74\n",
      "[101]\tvalid_0's l2: 6381.33\n",
      "[102]\tvalid_0's l2: 6378.95\n",
      "[103]\tvalid_0's l2: 6372.94\n",
      "[104]\tvalid_0's l2: 6364.13\n",
      "[105]\tvalid_0's l2: 6356\n",
      "[106]\tvalid_0's l2: 6350.73\n",
      "[107]\tvalid_0's l2: 6345.42\n",
      "[108]\tvalid_0's l2: 6333.45\n",
      "[109]\tvalid_0's l2: 6329.72\n",
      "[110]\tvalid_0's l2: 6314.95\n",
      "[111]\tvalid_0's l2: 6299.67\n",
      "[112]\tvalid_0's l2: 6303.8\n",
      "[113]\tvalid_0's l2: 6306.98\n",
      "[114]\tvalid_0's l2: 6287.82\n",
      "[115]\tvalid_0's l2: 6272.28\n",
      "[116]\tvalid_0's l2: 6270.89\n",
      "[117]\tvalid_0's l2: 6272.09\n",
      "[118]\tvalid_0's l2: 6267.61\n",
      "[119]\tvalid_0's l2: 6260.94\n",
      "[120]\tvalid_0's l2: 6257.59\n",
      "[121]\tvalid_0's l2: 6254.86\n",
      "[122]\tvalid_0's l2: 6251.52\n",
      "[123]\tvalid_0's l2: 6245.52\n",
      "[124]\tvalid_0's l2: 6240.71\n",
      "[125]\tvalid_0's l2: 6241.33\n",
      "[126]\tvalid_0's l2: 6239.3\n",
      "[127]\tvalid_0's l2: 6231.56\n",
      "[128]\tvalid_0's l2: 6222.49\n",
      "[129]\tvalid_0's l2: 6221.21\n",
      "[130]\tvalid_0's l2: 6209.17\n",
      "[131]\tvalid_0's l2: 6212.85\n",
      "[132]\tvalid_0's l2: 6203.13\n",
      "[133]\tvalid_0's l2: 6197.93\n",
      "[134]\tvalid_0's l2: 6195.09\n",
      "[135]\tvalid_0's l2: 6189.47\n",
      "[136]\tvalid_0's l2: 6189.28\n",
      "[137]\tvalid_0's l2: 6187.62\n",
      "[138]\tvalid_0's l2: 6180.89\n",
      "[139]\tvalid_0's l2: 6174.97\n",
      "[140]\tvalid_0's l2: 6171.81\n",
      "[141]\tvalid_0's l2: 6170.43\n",
      "[142]\tvalid_0's l2: 6159.54\n",
      "[143]\tvalid_0's l2: 6160.55\n",
      "[144]\tvalid_0's l2: 6146.93\n",
      "[145]\tvalid_0's l2: 6145.74\n",
      "[146]\tvalid_0's l2: 6143.34\n",
      "[147]\tvalid_0's l2: 6144.23\n",
      "[148]\tvalid_0's l2: 6135.95\n",
      "[149]\tvalid_0's l2: 6125.65\n",
      "[150]\tvalid_0's l2: 6124.62\n",
      "[151]\tvalid_0's l2: 6119.83\n",
      "[152]\tvalid_0's l2: 6111.92\n",
      "[153]\tvalid_0's l2: 6110.16\n",
      "[154]\tvalid_0's l2: 6109.32\n",
      "[155]\tvalid_0's l2: 6109.27\n",
      "[156]\tvalid_0's l2: 6108.06\n",
      "[157]\tvalid_0's l2: 6110.5\n",
      "[158]\tvalid_0's l2: 6107.27\n",
      "[159]\tvalid_0's l2: 6105.78\n",
      "[160]\tvalid_0's l2: 6106.8\n",
      "[161]\tvalid_0's l2: 6106.29\n",
      "[162]\tvalid_0's l2: 6113.32\n",
      "[163]\tvalid_0's l2: 6110.14\n",
      "[164]\tvalid_0's l2: 6105.09\n",
      "[165]\tvalid_0's l2: 6105.75\n",
      "[166]\tvalid_0's l2: 6105.81\n",
      "[167]\tvalid_0's l2: 6105.78\n",
      "[168]\tvalid_0's l2: 6102.26\n",
      "[169]\tvalid_0's l2: 6103.05\n",
      "[170]\tvalid_0's l2: 6102.36\n",
      "[171]\tvalid_0's l2: 6099.53\n",
      "[172]\tvalid_0's l2: 6095.24\n",
      "[173]\tvalid_0's l2: 6093.66\n",
      "[174]\tvalid_0's l2: 6093.84\n",
      "[175]\tvalid_0's l2: 6097.28\n",
      "[176]\tvalid_0's l2: 6094.81\n",
      "[177]\tvalid_0's l2: 6092.63\n",
      "[178]\tvalid_0's l2: 6088.76\n",
      "[179]\tvalid_0's l2: 6082.03\n",
      "[180]\tvalid_0's l2: 6079.51\n",
      "[181]\tvalid_0's l2: 6077.78\n",
      "[182]\tvalid_0's l2: 6078.51\n",
      "[183]\tvalid_0's l2: 6074.93\n",
      "[184]\tvalid_0's l2: 6070.74\n",
      "[185]\tvalid_0's l2: 6067.13\n",
      "[186]\tvalid_0's l2: 6066.53\n",
      "[187]\tvalid_0's l2: 6066.07\n",
      "[188]\tvalid_0's l2: 6068.93\n",
      "[189]\tvalid_0's l2: 6070.12\n",
      "[190]\tvalid_0's l2: 6068.29\n",
      "[191]\tvalid_0's l2: 6070.49\n",
      "[192]\tvalid_0's l2: 6070.07\n",
      "[193]\tvalid_0's l2: 6067.49\n",
      "[194]\tvalid_0's l2: 6072.02\n",
      "[195]\tvalid_0's l2: 6072.11\n",
      "[196]\tvalid_0's l2: 6070.48\n",
      "[197]\tvalid_0's l2: 6070.14\n",
      "[198]\tvalid_0's l2: 6068.37\n",
      "[199]\tvalid_0's l2: 6067.7\n",
      "[200]\tvalid_0's l2: 6062.93\n",
      "[201]\tvalid_0's l2: 6061.99\n",
      "[202]\tvalid_0's l2: 6062.95\n",
      "[203]\tvalid_0's l2: 6066.98\n",
      "[204]\tvalid_0's l2: 6067.7\n",
      "[205]\tvalid_0's l2: 6069.86\n",
      "[206]\tvalid_0's l2: 6067.3\n",
      "[207]\tvalid_0's l2: 6068.62\n",
      "[208]\tvalid_0's l2: 6067.49\n",
      "[209]\tvalid_0's l2: 6064.5\n",
      "[210]\tvalid_0's l2: 6064.41\n",
      "[211]\tvalid_0's l2: 6066.74\n",
      "[212]\tvalid_0's l2: 6067.48\n",
      "[213]\tvalid_0's l2: 6067.62\n",
      "[214]\tvalid_0's l2: 6063.43\n",
      "[215]\tvalid_0's l2: 6062.09\n",
      "[216]\tvalid_0's l2: 6060.46\n",
      "[217]\tvalid_0's l2: 6060.88\n",
      "[218]\tvalid_0's l2: 6059.6\n",
      "[219]\tvalid_0's l2: 6059.4\n",
      "[220]\tvalid_0's l2: 6061.32\n",
      "[221]\tvalid_0's l2: 6061\n",
      "[222]\tvalid_0's l2: 6059.82\n",
      "[223]\tvalid_0's l2: 6058.56\n",
      "[224]\tvalid_0's l2: 6054.9\n",
      "[225]\tvalid_0's l2: 6054.51\n",
      "[226]\tvalid_0's l2: 6051.83\n",
      "[227]\tvalid_0's l2: 6047.35\n",
      "[228]\tvalid_0's l2: 6047.39\n",
      "[229]\tvalid_0's l2: 6044.2\n",
      "[230]\tvalid_0's l2: 6045.81\n",
      "[231]\tvalid_0's l2: 6047.26\n",
      "[232]\tvalid_0's l2: 6048.45\n",
      "[233]\tvalid_0's l2: 6049.31\n",
      "[234]\tvalid_0's l2: 6049.22\n",
      "[235]\tvalid_0's l2: 6045.03\n",
      "[236]\tvalid_0's l2: 6046.45\n",
      "[237]\tvalid_0's l2: 6048.55\n",
      "[238]\tvalid_0's l2: 6047.55\n",
      "[239]\tvalid_0's l2: 6050.54\n",
      "[240]\tvalid_0's l2: 6053.47\n",
      "[241]\tvalid_0's l2: 6052.33\n",
      "[242]\tvalid_0's l2: 6053.2\n",
      "[243]\tvalid_0's l2: 6052.23\n",
      "[244]\tvalid_0's l2: 6053.15\n",
      "[245]\tvalid_0's l2: 6052.13\n",
      "[246]\tvalid_0's l2: 6051.06\n",
      "[247]\tvalid_0's l2: 6048.86\n",
      "[248]\tvalid_0's l2: 6051.05\n",
      "[249]\tvalid_0's l2: 6051.5\n",
      "Early stopping, best iteration is:\n",
      "[229]\tvalid_0's l2: 6044.2\n",
      "772.2440082805831\n"
     ]
    },
    {
     "data": {
      "text/plain": [
       "array([252.4443406 , 344.53227983, 296.56727543, ..., 473.74244025,\n",
       "       356.74167542,  60.18089184])"
      ]
     },
     "execution_count": 1428,
     "metadata": {},
     "output_type": "execute_result"
    }
   ],
   "source": [
    "# データセットを生成する\n",
    "lgb_train = lgb.Dataset(X_train, y_train)\n",
    "lgb_eval = lgb.Dataset(X_test, y_test, reference=lgb_train)\n",
    "\n",
    "# LightGBM のハイパーパラメータ\n",
    "params = {\n",
    "    'boosting_type': 'gbdt',\n",
    "    'task': 'train',\n",
    "    'objective': 'regression',\n",
    "    \n",
    "    'learning_rate': 0.1,\n",
    "    'early_stopping_round': 20,\n",
    "    'verbose': -1,\n",
    "    'random_state': 0,\n",
    "    \n",
    "    'max_depth': 7,\n",
    "    'num_leaves': int(0.7*2**8),\n",
    "    'num_iterations': 1000,\n",
    "    'min_data_in_leaf': 20,\n",
    "    'feature_fraction': 0.9,\n",
    "}\n",
    "# num_iterationsはearlystoppingするから気にしなくていい\n",
    "#　max_depthは3〜8くらい。7くらいが無難\n",
    "# num_leaves 最重要。複雑さに直結。max_depthの自乗よりは大きくならない\n",
    "\n",
    "# 上記のパラメータでモデルを学習する\n",
    "model = lgb.train(params, lgb_train, valid_sets=lgb_eval)\n",
    "\n",
    "# テストデータを予測する\n",
    "y_pred = model.predict(X_test, num_iteration=model.best_iteration)\n",
    "print(y_pred.max())\n",
    "y_pred"
   ]
  },
  {
   "cell_type": "code",
   "execution_count": 1429,
   "id": "16c41721-9566-494e-b3e5-1ff500a7de98",
   "metadata": {},
   "outputs": [],
   "source": [
    "# model = lgb.LGBMRegressor(random_state=0)\n",
    "# model.fit(X_train, y_train)\n",
    "# y_pred = model.predict(X_test)"
   ]
  },
  {
   "cell_type": "code",
   "execution_count": 1430,
   "id": "a852f4ea-e70d-4bc7-a8f9-71d37b081fa9",
   "metadata": {},
   "outputs": [],
   "source": [
    "# スコアを表示。小さいほどよい\n",
    "def rmsle(real, predicted):\n",
    "    sum=0.0\n",
    "    for x in range(len(predicted)):\n",
    "        if predicted[x]<0 or real[x]<0: #check for negative values\n",
    "            continue\n",
    "        p = np.log(predicted[x]+1)\n",
    "        r = np.log(real[x]+1)\n",
    "        sum = sum + (p - r)**2\n",
    "    return (sum/len(predicted))**0.5"
   ]
  },
  {
   "cell_type": "code",
   "execution_count": 1431,
   "id": "41e0a042-7c18-4638-ab10-33ba55530671",
   "metadata": {},
   "outputs": [],
   "source": [
    "# from sklearn.linear_model import Lasso                         # LASSO回帰のクラスを読み込み\n",
    "# model = Lasso(alpha=1)                                # LASSO回帰のインスタンスを生成\n",
    "# model = model_lasso.fit(X_train, y_train)                                      # データを学習させる\n",
    "# y_pred = model.predict(X_test)"
   ]
  },
  {
   "cell_type": "code",
   "execution_count": 1432,
   "id": "7b6f9d2b-0aea-41b0-840c-7659edf895aa",
   "metadata": {},
   "outputs": [
    {
     "data": {
      "image/png": "[encoded data removed]",
      "text/plain": [
       "<Figure size 432x288 with 1 Axes>"
      ]
     },
     "metadata": {
      "needs_background": "light"
     },
     "output_type": "display_data"
    }
   ],
   "source": [
    "# 散布図を描画(真値 vs 予測値)\n",
    "plt.plot(y_test, y_test, color = 'red', label = 'x=y') # 直線y = x (真値と予測値が同じ場合は直線状に点がプロットされる)\n",
    "plt.scatter(y_test, y_pred) # 散布図のプロット\n",
    "plt.xlabel('y_train') # x軸ラベル\n",
    "plt.ylabel('y_test_pred') # y軸ラベル\n",
    "plt.title('y_train vs y_test_pred') # グラフタイトル\n",
    "plt.show()"
   ]
  },
  {
   "cell_type": "code",
   "execution_count": 1433,
   "id": "edd8ab3f-d236-438f-ba73-5794d14da932",
   "metadata": {},
   "outputs": [
    {
     "name": "stdout",
     "output_type": "stream",
     "text": [
      "test score:  0.5063262019689356\n",
      "train score:  0.48908003554262924\n"
     ]
    }
   ],
   "source": [
    "print(\"test score: \",rmsle(y_test, model.predict(X_test)))\n",
    "print(\"train score: \",rmsle(y_train, model.predict(X_train)))"
   ]
  },
  {
   "cell_type": "code",
   "execution_count": 1434,
   "id": "d42978e2-093f-446f-898c-c9a3a7ceac26",
   "metadata": {},
   "outputs": [],
   "source": [
    "# y_t = pd.DataFrame(model.predict(X_train))\n",
    "# y_t.describe()"
   ]
  },
  {
   "cell_type": "code",
   "execution_count": 1435,
   "id": "fb060501-9591-4f15-a1ea-3bdb55986079",
   "metadata": {},
   "outputs": [],
   "source": [
    "test_pred = model.predict(test)\n",
    "test_pred = pd.DataFrame(test_pred, columns=['count'])\n",
    "# test_pred['count'] = np.exp(test_pred['count']) - 1\n",
    "test_pred['count'] = test_pred['count'].astype('int64')\n",
    "\n",
    "submission  = pd.read_csv('input/sampleSubmission.csv')\n",
    "submission = pd.DataFrame(submission['datetime'])\n",
    "submission = pd.concat([submission, test_pred], axis=1)\n",
    "\n",
    "# submission['count'].sum()/submission['count'].count()"
   ]
  },
  {
   "cell_type": "code",
   "execution_count": 1436,
   "id": "d889d55b-b807-4f4a-815e-5e18d77ae3d2",
   "metadata": {},
   "outputs": [
    {
     "data": {
      "text/html": [
       "<div>\n",
       "<style scoped>\n",
       "    .dataframe tbody tr th:only-of-type {\n",
       "        vertical-align: middle;\n",
       "    }\n",
       "\n",
       "    .dataframe tbody tr th {\n",
       "        vertical-align: top;\n",
       "    }\n",
       "\n",
       "    .dataframe thead th {\n",
       "        text-align: right;\n",
       "    }\n",
       "</style>\n",
       "<table border=\"1\" class=\"dataframe\">\n",
       "  <thead>\n",
       "    <tr style=\"text-align: right;\">\n",
       "      <th></th>\n",
       "      <th>0</th>\n",
       "    </tr>\n",
       "  </thead>\n",
       "  <tbody>\n",
       "    <tr>\n",
       "      <th>count</th>\n",
       "      <td>2722.000000</td>\n",
       "    </tr>\n",
       "    <tr>\n",
       "      <th>mean</th>\n",
       "      <td>191.686357</td>\n",
       "    </tr>\n",
       "    <tr>\n",
       "      <th>std</th>\n",
       "      <td>164.124323</td>\n",
       "    </tr>\n",
       "    <tr>\n",
       "      <th>min</th>\n",
       "      <td>-49.971486</td>\n",
       "    </tr>\n",
       "    <tr>\n",
       "      <th>25%</th>\n",
       "      <td>50.792962</td>\n",
       "    </tr>\n",
       "    <tr>\n",
       "      <th>50%</th>\n",
       "      <td>166.861299</td>\n",
       "    </tr>\n",
       "    <tr>\n",
       "      <th>75%</th>\n",
       "      <td>277.966763</td>\n",
       "    </tr>\n",
       "    <tr>\n",
       "      <th>max</th>\n",
       "      <td>772.244008</td>\n",
       "    </tr>\n",
       "  </tbody>\n",
       "</table>\n",
       "</div>"
      ],
      "text/plain": [
       "                 0\n",
       "count  2722.000000\n",
       "mean    191.686357\n",
       "std     164.124323\n",
       "min     -49.971486\n",
       "25%      50.792962\n",
       "50%     166.861299\n",
       "75%     277.966763\n",
       "max     772.244008"
      ]
     },
     "execution_count": 1436,
     "metadata": {},
     "output_type": "execute_result"
    }
   ],
   "source": [
    "y_p = pd.DataFrame(model.predict(X_test))\n",
    "y_p.describe()"
   ]
  },
  {
   "cell_type": "code",
   "execution_count": 1437,
   "id": "0a59f49d-928d-419a-86f1-30f3d4583416",
   "metadata": {},
   "outputs": [
    {
     "data": {
      "text/html": [
       "<div>\n",
       "<style scoped>\n",
       "    .dataframe tbody tr th:only-of-type {\n",
       "        vertical-align: middle;\n",
       "    }\n",
       "\n",
       "    .dataframe tbody tr th {\n",
       "        vertical-align: top;\n",
       "    }\n",
       "\n",
       "    .dataframe thead th {\n",
       "        text-align: right;\n",
       "    }\n",
       "</style>\n",
       "<table border=\"1\" class=\"dataframe\">\n",
       "  <thead>\n",
       "    <tr style=\"text-align: right;\">\n",
       "      <th></th>\n",
       "      <th>count</th>\n",
       "    </tr>\n",
       "  </thead>\n",
       "  <tbody>\n",
       "    <tr>\n",
       "      <th>count</th>\n",
       "      <td>6493.000000</td>\n",
       "    </tr>\n",
       "    <tr>\n",
       "      <th>mean</th>\n",
       "      <td>191.398121</td>\n",
       "    </tr>\n",
       "    <tr>\n",
       "      <th>std</th>\n",
       "      <td>164.988002</td>\n",
       "    </tr>\n",
       "    <tr>\n",
       "      <th>min</th>\n",
       "      <td>-43.000000</td>\n",
       "    </tr>\n",
       "    <tr>\n",
       "      <th>25%</th>\n",
       "      <td>50.000000</td>\n",
       "    </tr>\n",
       "    <tr>\n",
       "      <th>50%</th>\n",
       "      <td>162.000000</td>\n",
       "    </tr>\n",
       "    <tr>\n",
       "      <th>75%</th>\n",
       "      <td>276.000000</td>\n",
       "    </tr>\n",
       "    <tr>\n",
       "      <th>max</th>\n",
       "      <td>771.000000</td>\n",
       "    </tr>\n",
       "  </tbody>\n",
       "</table>\n",
       "</div>"
      ],
      "text/plain": [
       "             count\n",
       "count  6493.000000\n",
       "mean    191.398121\n",
       "std     164.988002\n",
       "min     -43.000000\n",
       "25%      50.000000\n",
       "50%     162.000000\n",
       "75%     276.000000\n",
       "max     771.000000"
      ]
     },
     "metadata": {},
     "output_type": "display_data"
    },
    {
     "name": "stdout",
     "output_type": "stream",
     "text": [
      "0    118\n",
      "dtype: int64\n",
      "187\n"
     ]
    }
   ],
   "source": [
    "display(submission.describe())\n",
    "print(y_p.loc[y_p[0]<0].count())\n",
    "print(submission.loc[submission['count']<0, 'count'].count())"
   ]
  },
  {
   "cell_type": "code",
   "execution_count": 1438,
   "id": "164b131d-d186-4556-a6eb-c11cac5e57d8",
   "metadata": {},
   "outputs": [],
   "source": [
    "submission.loc[submission['count']<0, 'count'] = 0"
   ]
  },
  {
   "cell_type": "code",
   "execution_count": 1439,
   "id": "ea8aeaec-40cf-4d43-a8e7-5fefa99e2607",
   "metadata": {},
   "outputs": [],
   "source": [
    "submission.to_csv('output/submission.csv',index=False)"
   ]
  },
  {
   "cell_type": "code",
   "execution_count": null,
   "id": "f030acbc-98c7-4563-aa04-5f49ffe3adb9",
   "metadata": {},
   "outputs": [],
   "source": []
  }
 ],
 "metadata": {
  "kernelspec": {
   "display_name": "Python 3 (ipykernel)",
   "language": "python",
   "name": "python3"
  },
  "language_info": {
   "codemirror_mode": {
    "name": "ipython",
    "version": 3
   },
   "file_extension": ".py",
   "mimetype": "text/x-python",
   "name": "python",
   "nbconvert_exporter": "python",
   "pygments_lexer": "ipython3",
   "version": "3.9.7"
  }
 },
 "nbformat": 4,
 "nbformat_minor": 5
}
