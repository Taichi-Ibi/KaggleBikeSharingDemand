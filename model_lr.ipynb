{
 "cells": [
  {
   "cell_type": "code",
   "execution_count": 81,
   "id": "38398f9d-ae81-4b00-9a43-44dfae30f013",
   "metadata": {},
   "outputs": [],
   "source": [
    "import numpy as np\n",
    "import pandas as pd\n",
    "import matplotlib.pyplot as plt\n",
    "from sklearn.preprocessing import LabelEncoder"
   ]
  },
  {
   "cell_type": "code",
   "execution_count": 82,
   "id": "7937daf2-f9fc-4c2f-95c7-4bbc6337fd18",
   "metadata": {},
   "outputs": [],
   "source": [
    "df = pd.read_csv('input/train.csv')"
   ]
  },
  {
   "cell_type": "code",
   "execution_count": 83,
   "id": "3d1db6f2-bab0-44b3-bb85-dbd7ada23cff",
   "metadata": {},
   "outputs": [
    {
     "data": {
      "text/plain": [
       "Index(['datetime', 'season', 'holiday', 'workingday', 'weather', 'temp',\n",
       "       'atemp', 'humidity', 'windspeed', 'casual', 'registered', 'count',\n",
       "       'moving_ave', 'year', 'month', 'day', 'weekday', 'hour'],\n",
       "      dtype='object')"
      ]
     },
     "execution_count": 83,
     "metadata": {},
     "output_type": "execute_result"
    }
   ],
   "source": [
    "df['moving_ave'] = df['count'].rolling(window=7, center=True).mean()\n",
    "df['datetime'] = pd.to_datetime(df['datetime'])\n",
    "df['year'] = pd.to_datetime(df['datetime']).dt.strftime('%Y')\n",
    "df['month'] = pd.to_datetime(df['datetime']).dt.strftime('%m')\n",
    "df['day'] = pd.to_datetime(df['datetime']).dt.strftime('%d')\n",
    "df['weekday'] = pd.to_datetime(df['datetime']).dt.strftime('%a')\n",
    "df['hour'] = pd.to_datetime(df['datetime']).dt.strftime('%H')\n",
    "df.dropna(inplace=True)\n",
    "df.columns"
   ]
  },
  {
   "cell_type": "code",
   "execution_count": 84,
   "id": "576168f3-e2a8-47a3-83fe-e64a5533971e",
   "metadata": {},
   "outputs": [],
   "source": [
    "df = df[\n",
    "    [\n",
    "        'temp',    \n",
    "        # 'humidity',\n",
    "        # 'windspeed',\n",
    "        # 'holiday',\n",
    "        # 'workingday',\n",
    "        # 'weather',\n",
    "        # 'month',\n",
    "        # 'weekday',\n",
    "        'hour',\n",
    "        'count',\n",
    "        'moving_ave',\n",
    "    ]\n",
    "]"
   ]
  },
  {
   "cell_type": "code",
   "execution_count": 85,
   "id": "455a44c0-9931-44d6-a54b-6463ead0eb15",
   "metadata": {},
   "outputs": [],
   "source": [
    "df = pd.get_dummies(df, columns=[\n",
    "    # 'month',\n",
    "    # 'weekday',\n",
    "    'hour',\n",
    "    # 'weather',\n",
    "])"
   ]
  },
  {
   "cell_type": "code",
   "execution_count": 86,
   "id": "fcf6db28-80d2-4107-94e5-261d8d8de848",
   "metadata": {},
   "outputs": [],
   "source": [
    "y = df.loc[:,[\"count\"]].values\n",
    "df.drop(['count'], axis=1, inplace=True)\n",
    "X = df.values"
   ]
  },
  {
   "cell_type": "code",
   "execution_count": 87,
   "id": "238388af-470f-4828-9653-f11ff8108f80",
   "metadata": {},
   "outputs": [],
   "source": [
    "from sklearn.model_selection import train_test_split\n",
    "X_train, X_test, y_train, y_test = train_test_split(X, y, test_size=0.3, random_state=0)\n",
    "y_train = y_train.ravel()   # 1    2d array -> 1d array \n",
    "y_test  = y_test.ravel()    # 2    2d array -> 1d array "
   ]
  },
  {
   "cell_type": "code",
   "execution_count": 88,
   "id": "16c41721-9566-494e-b3e5-1ff500a7de98",
   "metadata": {},
   "outputs": [],
   "source": [
    "from sklearn.linear_model import LinearRegression\n",
    "model = LinearRegression()\n",
    "model = model.fit(X_train, y_train)\n",
    "y_pred = model.predict(X_test)\n",
    "\n",
    "# import lightgbm as lgb\n",
    "# model = lgb.LGBMRegressor()\n",
    "# model.fit(X_train, y_train)\n",
    "# y_pred = model.predict(X_test)"
   ]
  },
  {
   "cell_type": "code",
   "execution_count": 89,
   "id": "a852f4ea-e70d-4bc7-a8f9-71d37b081fa9",
   "metadata": {},
   "outputs": [],
   "source": [
    "# スコアを表示。小さいほどよい\n",
    "def rmsle(real, predicted):\n",
    "    sum=0.0\n",
    "    for x in range(len(predicted)):\n",
    "        if predicted[x]<0 or real[x]<0: #check for negative values\n",
    "            continue\n",
    "        p = np.log(predicted[x]+1)\n",
    "        r = np.log(real[x]+1)\n",
    "        sum = sum + (p - r)**2\n",
    "    return (sum/len(predicted))**0.5"
   ]
  },
  {
   "cell_type": "code",
   "execution_count": 90,
   "id": "41e0a042-7c18-4638-ab10-33ba55530671",
   "metadata": {},
   "outputs": [],
   "source": [
    "# from sklearn.linear_model import Lasso                         # LASSO回帰のクラスを読み込み\n",
    "# model = Lasso(alpha=1)                                # LASSO回帰のインスタンスを生成\n",
    "# model = model_lasso.fit(X_train, y_train)                                      # データを学習させる\n",
    "# y_pred = model.predict(X_test)"
   ]
  },
  {
   "cell_type": "code",
   "execution_count": 91,
   "id": "7b6f9d2b-0aea-41b0-840c-7659edf895aa",
   "metadata": {},
   "outputs": [
    {
     "data": {
      "image/png": "[encoded data removed]",
      "text/plain": [
       "<Figure size 432x288 with 1 Axes>"
      ]
     },
     "metadata": {
      "needs_background": "light"
     },
     "output_type": "display_data"
    }
   ],
   "source": [
    "# 散布図を描画(真値 vs 予測値)\n",
    "plt.plot(y_test, y_test, color = 'red', label = 'x=y') # 直線y = x (真値と予測値が同じ場合は直線状に点がプロットされる)\n",
    "plt.scatter(y_test, y_pred) # 散布図のプロット\n",
    "plt.xlabel('y_train') # x軸ラベル\n",
    "plt.ylabel('y_test_pred') # y軸ラベル\n",
    "plt.title('y_train vs y_test_pred') # グラフタイトル\n",
    "plt.show()"
   ]
  },
  {
   "cell_type": "code",
   "execution_count": 92,
   "id": "edd8ab3f-d236-438f-ba73-5794d14da932",
   "metadata": {},
   "outputs": [
    {
     "name": "stdout",
     "output_type": "stream",
     "text": [
      "test score:  0.5528335206163139\n",
      "train score:  0.5373906330110448\n"
     ]
    }
   ],
   "source": [
    "print(\"test score: \",rmsle(y_test, model.predict(X_test)))\n",
    "print(\"train score: \",rmsle(y_train, model.predict(X_train)))"
   ]
  },
  {
   "cell_type": "code",
   "execution_count": 93,
   "id": "d42978e2-093f-446f-898c-c9a3a7ceac26",
   "metadata": {},
   "outputs": [
    {
     "data": {
      "text/html": [
       "<div>\n",
       "<style scoped>\n",
       "    .dataframe tbody tr th:only-of-type {\n",
       "        vertical-align: middle;\n",
       "    }\n",
       "\n",
       "    .dataframe tbody tr th {\n",
       "        vertical-align: top;\n",
       "    }\n",
       "\n",
       "    .dataframe thead th {\n",
       "        text-align: right;\n",
       "    }\n",
       "</style>\n",
       "<table border=\"1\" class=\"dataframe\">\n",
       "  <thead>\n",
       "    <tr style=\"text-align: right;\">\n",
       "      <th></th>\n",
       "      <th>0</th>\n",
       "    </tr>\n",
       "  </thead>\n",
       "  <tbody>\n",
       "    <tr>\n",
       "      <th>count</th>\n",
       "      <td>7616.000000</td>\n",
       "    </tr>\n",
       "    <tr>\n",
       "      <th>mean</th>\n",
       "      <td>189.231224</td>\n",
       "    </tr>\n",
       "    <tr>\n",
       "      <th>std</th>\n",
       "      <td>169.740278</td>\n",
       "    </tr>\n",
       "    <tr>\n",
       "      <th>min</th>\n",
       "      <td>-81.013726</td>\n",
       "    </tr>\n",
       "    <tr>\n",
       "      <th>25%</th>\n",
       "      <td>43.455303</td>\n",
       "    </tr>\n",
       "    <tr>\n",
       "      <th>50%</th>\n",
       "      <td>157.634796</td>\n",
       "    </tr>\n",
       "    <tr>\n",
       "      <th>75%</th>\n",
       "      <td>298.809072</td>\n",
       "    </tr>\n",
       "    <tr>\n",
       "      <th>max</th>\n",
       "      <td>802.548960</td>\n",
       "    </tr>\n",
       "  </tbody>\n",
       "</table>\n",
       "</div>"
      ],
      "text/plain": [
       "                 0\n",
       "count  7616.000000\n",
       "mean    189.231224\n",
       "std     169.740278\n",
       "min     -81.013726\n",
       "25%      43.455303\n",
       "50%     157.634796\n",
       "75%     298.809072\n",
       "max     802.548960"
      ]
     },
     "execution_count": 93,
     "metadata": {},
     "output_type": "execute_result"
    }
   ],
   "source": [
    "y_t = pd.DataFrame(model.predict(X_train))\n",
    "y_t.describe()"
   ]
  },
  {
   "cell_type": "code",
   "execution_count": 94,
   "id": "d889d55b-b807-4f4a-815e-5e18d77ae3d2",
   "metadata": {},
   "outputs": [
    {
     "data": {
      "text/html": [
       "<div>\n",
       "<style scoped>\n",
       "    .dataframe tbody tr th:only-of-type {\n",
       "        vertical-align: middle;\n",
       "    }\n",
       "\n",
       "    .dataframe tbody tr th {\n",
       "        vertical-align: top;\n",
       "    }\n",
       "\n",
       "    .dataframe thead th {\n",
       "        text-align: right;\n",
       "    }\n",
       "</style>\n",
       "<table border=\"1\" class=\"dataframe\">\n",
       "  <thead>\n",
       "    <tr style=\"text-align: right;\">\n",
       "      <th></th>\n",
       "      <th>0</th>\n",
       "    </tr>\n",
       "  </thead>\n",
       "  <tbody>\n",
       "    <tr>\n",
       "      <th>count</th>\n",
       "      <td>3264.000000</td>\n",
       "    </tr>\n",
       "    <tr>\n",
       "      <th>mean</th>\n",
       "      <td>196.958914</td>\n",
       "    </tr>\n",
       "    <tr>\n",
       "      <th>std</th>\n",
       "      <td>170.363437</td>\n",
       "    </tr>\n",
       "    <tr>\n",
       "      <th>min</th>\n",
       "      <td>-78.338145</td>\n",
       "    </tr>\n",
       "    <tr>\n",
       "      <th>25%</th>\n",
       "      <td>48.487021</td>\n",
       "    </tr>\n",
       "    <tr>\n",
       "      <th>50%</th>\n",
       "      <td>164.699955</td>\n",
       "    </tr>\n",
       "    <tr>\n",
       "      <th>75%</th>\n",
       "      <td>310.221667</td>\n",
       "    </tr>\n",
       "    <tr>\n",
       "      <th>max</th>\n",
       "      <td>736.422912</td>\n",
       "    </tr>\n",
       "  </tbody>\n",
       "</table>\n",
       "</div>"
      ],
      "text/plain": [
       "                 0\n",
       "count  3264.000000\n",
       "mean    196.958914\n",
       "std     170.363437\n",
       "min     -78.338145\n",
       "25%      48.487021\n",
       "50%     164.699955\n",
       "75%     310.221667\n",
       "max     736.422912"
      ]
     },
     "execution_count": 94,
     "metadata": {},
     "output_type": "execute_result"
    }
   ],
   "source": [
    "y_p = pd.DataFrame(model.predict(X_test))\n",
    "y_p.describe()"
   ]
  },
  {
   "cell_type": "code",
   "execution_count": 95,
   "id": "24e6533e-92c5-40b9-9c95-649f4795a884",
   "metadata": {},
   "outputs": [
    {
     "data": {
      "text/html": [
       "<div>\n",
       "<style scoped>\n",
       "    .dataframe tbody tr th:only-of-type {\n",
       "        vertical-align: middle;\n",
       "    }\n",
       "\n",
       "    .dataframe tbody tr th {\n",
       "        vertical-align: top;\n",
       "    }\n",
       "\n",
       "    .dataframe thead th {\n",
       "        text-align: right;\n",
       "    }\n",
       "</style>\n",
       "<table border=\"1\" class=\"dataframe\">\n",
       "  <thead>\n",
       "    <tr style=\"text-align: right;\">\n",
       "      <th></th>\n",
       "      <th>0</th>\n",
       "    </tr>\n",
       "  </thead>\n",
       "  <tbody>\n",
       "    <tr>\n",
       "      <th>0</th>\n",
       "      <td>37.668344</td>\n",
       "    </tr>\n",
       "    <tr>\n",
       "      <th>1</th>\n",
       "      <td>483.635014</td>\n",
       "    </tr>\n",
       "    <tr>\n",
       "      <th>2</th>\n",
       "      <td>17.573285</td>\n",
       "    </tr>\n",
       "    <tr>\n",
       "      <th>3</th>\n",
       "      <td>299.253464</td>\n",
       "    </tr>\n",
       "    <tr>\n",
       "      <th>4</th>\n",
       "      <td>124.093191</td>\n",
       "    </tr>\n",
       "    <tr>\n",
       "      <th>...</th>\n",
       "      <td>...</td>\n",
       "    </tr>\n",
       "    <tr>\n",
       "      <th>3259</th>\n",
       "      <td>303.061560</td>\n",
       "    </tr>\n",
       "    <tr>\n",
       "      <th>3260</th>\n",
       "      <td>-56.682616</td>\n",
       "    </tr>\n",
       "    <tr>\n",
       "      <th>3261</th>\n",
       "      <td>-16.026431</td>\n",
       "    </tr>\n",
       "    <tr>\n",
       "      <th>3262</th>\n",
       "      <td>127.533530</td>\n",
       "    </tr>\n",
       "    <tr>\n",
       "      <th>3263</th>\n",
       "      <td>179.703504</td>\n",
       "    </tr>\n",
       "  </tbody>\n",
       "</table>\n",
       "<p>3264 rows × 1 columns</p>\n",
       "</div>"
      ],
      "text/plain": [
       "               0\n",
       "0      37.668344\n",
       "1     483.635014\n",
       "2      17.573285\n",
       "3     299.253464\n",
       "4     124.093191\n",
       "...          ...\n",
       "3259  303.061560\n",
       "3260  -56.682616\n",
       "3261  -16.026431\n",
       "3262  127.533530\n",
       "3263  179.703504\n",
       "\n",
       "[3264 rows x 1 columns]"
      ]
     },
     "execution_count": 95,
     "metadata": {},
     "output_type": "execute_result"
    }
   ],
   "source": [
    "y_p"
   ]
  },
  {
   "cell_type": "code",
   "execution_count": 96,
   "id": "6593b135-832d-4d6b-a962-e71e3d0c3f8f",
   "metadata": {},
   "outputs": [
    {
     "data": {
      "text/plain": [
       "0    218\n",
       "dtype: int64"
      ]
     },
     "execution_count": 96,
     "metadata": {},
     "output_type": "execute_result"
    }
   ],
   "source": [
    "y_p.loc[y_p[0]<0].count()"
   ]
  }
 ],
 "metadata": {
  "kernelspec": {
   "display_name": "Python 3 (ipykernel)",
   "language": "python",
   "name": "python3"
  },
  "language_info": {
   "codemirror_mode": {
    "name": "ipython",
    "version": 3
   },
   "file_extension": ".py",
   "mimetype": "text/x-python",
   "name": "python",
   "nbconvert_exporter": "python",
   "pygments_lexer": "ipython3",
   "version": "3.9.7"
  }
 },
 "nbformat": 4,
 "nbformat_minor": 5
}
