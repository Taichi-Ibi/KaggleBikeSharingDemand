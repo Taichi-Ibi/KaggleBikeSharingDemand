{
 "cells": [
  {
   "cell_type": "markdown",
   "id": "5a467dec-ab65-499b-8fe3-4ce3ec7126aa",
   "metadata": {},
   "source": [
    "## ライブラリのインポート"
   ]
  },
  {
   "cell_type": "code",
   "execution_count": 1220,
   "id": "38398f9d-ae81-4b00-9a43-44dfae30f013",
   "metadata": {},
   "outputs": [],
   "source": [
    "import numpy as np\n",
    "import pandas as pd\n",
    "import matplotlib.pyplot as plt\n",
    "import lightgbm as lgb\n",
    "from sklearn.preprocessing import LabelEncoder\n",
    "from sklearn.model_selection import train_test_split"
   ]
  },
  {
   "cell_type": "markdown",
   "id": "b9b5f1e0-5c7e-4651-a109-03497e6f2adc",
   "metadata": {},
   "source": [
    "## データの読み込み"
   ]
  },
  {
   "cell_type": "code",
   "execution_count": 1221,
   "id": "7937daf2-f9fc-4c2f-95c7-4bbc6337fd18",
   "metadata": {},
   "outputs": [],
   "source": [
    "train = pd.read_csv('input/train.csv')\n",
    "test = pd.read_csv('input/test.csv')\n",
    "df = pd.concat([train, test], axis=0, ignore_index=True)"
   ]
  },
  {
   "cell_type": "markdown",
   "id": "12b2a991-0703-468d-aee2-2d2413161997",
   "metadata": {},
   "source": [
    "## 前処理"
   ]
  },
  {
   "cell_type": "code",
   "execution_count": 1222,
   "id": "3d1db6f2-bab0-44b3-bb85-dbd7ada23cff",
   "metadata": {},
   "outputs": [
    {
     "data": {
      "text/plain": [
       "Index(['datetime', 'season', 'holiday', 'workingday', 'weather', 'temp',\n",
       "       'atemp', 'humidity', 'windspeed', 'casual', 'registered', 'count',\n",
       "       'year', 'month', 'day', 'weekday', 'hour', 'moving_ave_3',\n",
       "       'moving_ave_5', 'moving_ave_7', 'moving_ave_14'],\n",
       "      dtype='object')"
      ]
     },
     "execution_count": 1222,
     "metadata": {},
     "output_type": "execute_result"
    }
   ],
   "source": [
    "df['datetime'] = pd.to_datetime(df['datetime'])\n",
    "df['year'] = pd.to_datetime(df['datetime']).dt.strftime('%Y')\n",
    "df['month'] = pd.to_datetime(df['datetime']).dt.strftime('%m')\n",
    "df['day'] = pd.to_datetime(df['datetime']).dt.strftime('%d')\n",
    "df['weekday'] = pd.to_datetime(df['datetime']).dt.strftime('%a')\n",
    "df['hour'] = pd.to_datetime(df['datetime']).dt.strftime('%H')\n",
    "\n",
    "df = df.sort_values('datetime')\n",
    "df['moving_ave_3'] = df['count'].rolling(window=3, center=True).mean() #3日間移動平均\n",
    "df['moving_ave_5'] = df['count'].rolling(window=5, center=True).mean() # 5日間移動平均\n",
    "df['moving_ave_7'] = df['count'].rolling(window= 7, center=True).mean() # 7日間移動平均\n",
    "df['moving_ave_14'] = df['count'].rolling(window=3, center=True).mean() #14日間移動平均\n",
    "# df.dropna(inplace=True)\n",
    "\n",
    "df.columns"
   ]
  },
  {
   "cell_type": "code",
   "execution_count": 1223,
   "id": "faf4f644-f250-45a7-9ab7-e8728b5a0201",
   "metadata": {},
   "outputs": [],
   "source": [
    "# df.iloc[400:450,:]"
   ]
  },
  {
   "cell_type": "markdown",
   "id": "ee702cdc-5e04-4618-b6ba-3d0752cb6132",
   "metadata": {},
   "source": [
    "## カラムの選択"
   ]
  },
  {
   "cell_type": "code",
   "execution_count": 1224,
   "id": "576168f3-e2a8-47a3-83fe-e64a5533971e",
   "metadata": {},
   "outputs": [],
   "source": [
    "df = df[\n",
    "    [\n",
    "        # 'datetime',\n",
    "        # 'season',\n",
    "        'temp',    \n",
    "        # 'humidity',\n",
    "        # 'windspeed',\n",
    "        'holiday',\n",
    "        'workingday',\n",
    "        'weather',\n",
    "        # 'month',\n",
    "        'weekday',\n",
    "        'hour',\n",
    "        'count',\n",
    "        'moving_ave_3',\n",
    "        # 'moving_ave_7',\n",
    "        # 'moving_ave_14',\n",
    "    ]\n",
    "]"
   ]
  },
  {
   "cell_type": "code",
   "execution_count": 1225,
   "id": "455a44c0-9931-44d6-a54b-6463ead0eb15",
   "metadata": {},
   "outputs": [],
   "source": [
    "df = pd.get_dummies(df, columns=[\n",
    "    # 'season',\n",
    "    # 'month',\n",
    "    'weekday',\n",
    "    'hour',\n",
    "    'weather',\n",
    "])"
   ]
  },
  {
   "cell_type": "markdown",
   "id": "aaeea3f2-a873-4739-9907-4d6f69d91635",
   "metadata": {},
   "source": [
    "## 学習データの準備"
   ]
  },
  {
   "cell_type": "code",
   "execution_count": 1226,
   "id": "46441ed6-b037-4119-bb50-91b441035ba7",
   "metadata": {},
   "outputs": [
    {
     "data": {
      "text/plain": [
       "Index(['temp', 'holiday', 'workingday', 'count', 'moving_ave_3', 'weekday_Fri',\n",
       "       'weekday_Mon', 'weekday_Sat', 'weekday_Sun', 'weekday_Thu',\n",
       "       'weekday_Tue', 'weekday_Wed', 'hour_00', 'hour_01', 'hour_02',\n",
       "       'hour_03', 'hour_04', 'hour_05', 'hour_06', 'hour_07', 'hour_08',\n",
       "       'hour_09', 'hour_10', 'hour_11', 'hour_12', 'hour_13', 'hour_14',\n",
       "       'hour_15', 'hour_16', 'hour_17', 'hour_18', 'hour_19', 'hour_20',\n",
       "       'hour_21', 'hour_22', 'hour_23', 'weather_1', 'weather_2', 'weather_3',\n",
       "       'weather_4'],\n",
       "      dtype='object')"
      ]
     },
     "execution_count": 1226,
     "metadata": {},
     "output_type": "execute_result"
    }
   ],
   "source": [
    "df.columns"
   ]
  },
  {
   "cell_type": "code",
   "execution_count": 1227,
   "id": "1b9b546c-01ee-42dc-be17-c1b1926895fd",
   "metadata": {},
   "outputs": [],
   "source": [
    "df = df.sort_index()"
   ]
  },
  {
   "cell_type": "code",
   "execution_count": 1228,
   "id": "e8547a61-3a8d-4c73-ba10-9a752aa4c1db",
   "metadata": {},
   "outputs": [],
   "source": [
    "train = df.iloc[:len(train),:].copy()\n",
    "train['count'] = train['count'].astype('int64')"
   ]
  },
  {
   "cell_type": "code",
   "execution_count": 1229,
   "id": "c645a903-0143-4122-a11e-c3958d3ce0a2",
   "metadata": {},
   "outputs": [],
   "source": [
    "test = df.iloc[len(train):,:].copy()\n",
    "test.drop(['count'], axis=1, inplace=True)\n",
    "test = test.reset_index(drop=True)"
   ]
  },
  {
   "cell_type": "code",
   "execution_count": 1230,
   "id": "fcf6db28-80d2-4107-94e5-261d8d8de848",
   "metadata": {},
   "outputs": [],
   "source": [
    "y = train.loc[:,[\"count\"]].values\n",
    "train.drop(['count'], axis=1, inplace=True)\n",
    "X = train.values"
   ]
  },
  {
   "cell_type": "code",
   "execution_count": 1231,
   "id": "238388af-470f-4828-9653-f11ff8108f80",
   "metadata": {},
   "outputs": [],
   "source": [
    "X_train, X_test, y_train, y_test = train_test_split(X, y, test_size=0.25, random_state=0)\n",
    "y_train = y_train.ravel()   # 1    2d array -> 1d array \n",
    "y_test  = y_test.ravel()    # 2    2d array -> 1d array "
   ]
  },
  {
   "cell_type": "markdown",
   "id": "d25b792f-9afb-4a71-8f58-afb3eeac684e",
   "metadata": {},
   "source": [
    "## モデル構築"
   ]
  },
  {
   "cell_type": "code",
   "execution_count": 1232,
   "id": "16c41721-9566-494e-b3e5-1ff500a7de98",
   "metadata": {},
   "outputs": [],
   "source": [
    "model = lgb.LGBMRegressor(random_state=0)\n",
    "model.fit(X_train, y_train)\n",
    "y_pred = model.predict(X_test)"
   ]
  },
  {
   "cell_type": "code",
   "execution_count": 1233,
   "id": "a852f4ea-e70d-4bc7-a8f9-71d37b081fa9",
   "metadata": {},
   "outputs": [],
   "source": [
    "# スコアを表示。小さいほどよい\n",
    "def rmsle(real, predicted):\n",
    "    sum=0.0\n",
    "    for x in range(len(predicted)):\n",
    "        if predicted[x]<0 or real[x]<0: #check for negative values\n",
    "            continue\n",
    "        p = np.log(predicted[x]+1)\n",
    "        r = np.log(real[x]+1)\n",
    "        sum = sum + (p - r)**2\n",
    "    return (sum/len(predicted))**0.5"
   ]
  },
  {
   "cell_type": "code",
   "execution_count": 1234,
   "id": "41e0a042-7c18-4638-ab10-33ba55530671",
   "metadata": {},
   "outputs": [],
   "source": [
    "# from sklearn.linear_model import Lasso                         # LASSO回帰のクラスを読み込み\n",
    "# model = Lasso(alpha=1)                                # LASSO回帰のインスタンスを生成\n",
    "# model = model_lasso.fit(X_train, y_train)                                      # データを学習させる\n",
    "# y_pred = model.predict(X_test)"
   ]
  },
  {
   "cell_type": "code",
   "execution_count": 1235,
   "id": "7b6f9d2b-0aea-41b0-840c-7659edf895aa",
   "metadata": {},
   "outputs": [
    {
     "data": {
      "image/png": "[encoded data removed]",
      "text/plain": [
       "<Figure size 432x288 with 1 Axes>"
      ]
     },
     "metadata": {
      "needs_background": "light"
     },
     "output_type": "display_data"
    }
   ],
   "source": [
    "# 散布図を描画(真値 vs 予測値)\n",
    "plt.plot(y_test, y_test, color = 'red', label = 'x=y') # 直線y = x (真値と予測値が同じ場合は直線状に点がプロットされる)\n",
    "plt.scatter(y_test, y_pred) # 散布図のプロット\n",
    "plt.xlabel('y_train') # x軸ラベル\n",
    "plt.ylabel('y_test_pred') # y軸ラベル\n",
    "plt.title('y_train vs y_test_pred') # グラフタイトル\n",
    "plt.show()"
   ]
  },
  {
   "cell_type": "code",
   "execution_count": 1236,
   "id": "edd8ab3f-d236-438f-ba73-5794d14da932",
   "metadata": {},
   "outputs": [
    {
     "name": "stdout",
     "output_type": "stream",
     "text": [
      "test score:  0.1990635935326299\n",
      "train score:  0.186714685386302\n"
     ]
    }
   ],
   "source": [
    "print(\"test score: \",rmsle(y_test, model.predict(X_test)))\n",
    "print(\"train score: \",rmsle(y_train, model.predict(X_train)))"
   ]
  },
  {
   "cell_type": "code",
   "execution_count": 1237,
   "id": "d42978e2-093f-446f-898c-c9a3a7ceac26",
   "metadata": {},
   "outputs": [],
   "source": [
    "# y_t = pd.DataFrame(model.predict(X_train))\n",
    "# y_t.describe()"
   ]
  },
  {
   "cell_type": "code",
   "execution_count": 1238,
   "id": "d889d55b-b807-4f4a-815e-5e18d77ae3d2",
   "metadata": {},
   "outputs": [
    {
     "data": {
      "text/html": [
       "<div>\n",
       "<style scoped>\n",
       "    .dataframe tbody tr th:only-of-type {\n",
       "        vertical-align: middle;\n",
       "    }\n",
       "\n",
       "    .dataframe tbody tr th {\n",
       "        vertical-align: top;\n",
       "    }\n",
       "\n",
       "    .dataframe thead th {\n",
       "        text-align: right;\n",
       "    }\n",
       "</style>\n",
       "<table border=\"1\" class=\"dataframe\">\n",
       "  <thead>\n",
       "    <tr style=\"text-align: right;\">\n",
       "      <th></th>\n",
       "      <th>0</th>\n",
       "    </tr>\n",
       "  </thead>\n",
       "  <tbody>\n",
       "    <tr>\n",
       "      <th>count</th>\n",
       "      <td>2722.000000</td>\n",
       "    </tr>\n",
       "    <tr>\n",
       "      <th>mean</th>\n",
       "      <td>194.157506</td>\n",
       "    </tr>\n",
       "    <tr>\n",
       "      <th>std</th>\n",
       "      <td>179.912019</td>\n",
       "    </tr>\n",
       "    <tr>\n",
       "      <th>min</th>\n",
       "      <td>2.045482</td>\n",
       "    </tr>\n",
       "    <tr>\n",
       "      <th>25%</th>\n",
       "      <td>44.826894</td>\n",
       "    </tr>\n",
       "    <tr>\n",
       "      <th>50%</th>\n",
       "      <td>151.370779</td>\n",
       "    </tr>\n",
       "    <tr>\n",
       "      <th>75%</th>\n",
       "      <td>287.455982</td>\n",
       "    </tr>\n",
       "    <tr>\n",
       "      <th>max</th>\n",
       "      <td>907.515186</td>\n",
       "    </tr>\n",
       "  </tbody>\n",
       "</table>\n",
       "</div>"
      ],
      "text/plain": [
       "                 0\n",
       "count  2722.000000\n",
       "mean    194.157506\n",
       "std     179.912019\n",
       "min       2.045482\n",
       "25%      44.826894\n",
       "50%     151.370779\n",
       "75%     287.455982\n",
       "max     907.515186"
      ]
     },
     "execution_count": 1238,
     "metadata": {},
     "output_type": "execute_result"
    }
   ],
   "source": [
    "y_p = pd.DataFrame(model.predict(X_test))\n",
    "y_p.describe()"
   ]
  },
  {
   "cell_type": "code",
   "execution_count": 1239,
   "id": "24e6533e-92c5-40b9-9c95-649f4795a884",
   "metadata": {},
   "outputs": [],
   "source": [
    "# y_p"
   ]
  },
  {
   "cell_type": "code",
   "execution_count": 1240,
   "id": "6593b135-832d-4d6b-a962-e71e3d0c3f8f",
   "metadata": {},
   "outputs": [
    {
     "data": {
      "text/plain": [
       "0    0\n",
       "dtype: int64"
      ]
     },
     "execution_count": 1240,
     "metadata": {},
     "output_type": "execute_result"
    }
   ],
   "source": [
    "y_p.loc[y_p[0]<0].count()"
   ]
  },
  {
   "cell_type": "code",
   "execution_count": 1241,
   "id": "fb060501-9591-4f15-a1ea-3bdb55986079",
   "metadata": {},
   "outputs": [],
   "source": [
    "test_pred = model.predict(test)\n",
    "test_pred = pd.DataFrame(test_pred, columns=['count'])\n",
    "test_pred['count'] = test_pred['count'].astype('int64')\n",
    "\n",
    "submission  = pd.read_csv('input/sampleSubmission.csv')\n",
    "submission = pd.DataFrame(submission['datetime'])\n",
    "submission = pd.concat([submission, test_pred], axis=1)\n",
    "\n",
    "# submission['count'].sum()/submission['count'].count()"
   ]
  },
  {
   "cell_type": "code",
   "execution_count": 1242,
   "id": "c0f457c3-a56b-4844-a781-3110775fa180",
   "metadata": {},
   "outputs": [],
   "source": [
    "# df['count'].describe()"
   ]
  },
  {
   "cell_type": "code",
   "execution_count": 1243,
   "id": "0dc0a1c7-a4fe-4ca6-bee9-d779b0b03e13",
   "metadata": {},
   "outputs": [],
   "source": [
    "submission.loc[submission['count']<0, 'count'].count()\n",
    "submission.loc[submission['count']<0, 'count'] = 0"
   ]
  },
  {
   "cell_type": "code",
   "execution_count": 1244,
   "id": "40a5450d-f2a9-449c-9f4a-6d27a6e070c2",
   "metadata": {},
   "outputs": [],
   "source": [
    "# submission.loc[submission['count']<0, 'count'].count()"
   ]
  },
  {
   "cell_type": "code",
   "execution_count": 1245,
   "id": "81687ca7-00c7-4e59-83b9-5717ce8db67e",
   "metadata": {},
   "outputs": [],
   "source": [
    "# submission.head(20)"
   ]
  },
  {
   "cell_type": "code",
   "execution_count": 1246,
   "id": "0a59f49d-928d-419a-86f1-30f3d4583416",
   "metadata": {},
   "outputs": [
    {
     "data": {
      "text/html": [
       "<div>\n",
       "<style scoped>\n",
       "    .dataframe tbody tr th:only-of-type {\n",
       "        vertical-align: middle;\n",
       "    }\n",
       "\n",
       "    .dataframe tbody tr th {\n",
       "        vertical-align: top;\n",
       "    }\n",
       "\n",
       "    .dataframe thead th {\n",
       "        text-align: right;\n",
       "    }\n",
       "</style>\n",
       "<table border=\"1\" class=\"dataframe\">\n",
       "  <thead>\n",
       "    <tr style=\"text-align: right;\">\n",
       "      <th></th>\n",
       "      <th>count</th>\n",
       "    </tr>\n",
       "  </thead>\n",
       "  <tbody>\n",
       "    <tr>\n",
       "      <th>count</th>\n",
       "      <td>6493.000000</td>\n",
       "    </tr>\n",
       "    <tr>\n",
       "      <th>mean</th>\n",
       "      <td>64.574311</td>\n",
       "    </tr>\n",
       "    <tr>\n",
       "      <th>std</th>\n",
       "      <td>16.501038</td>\n",
       "    </tr>\n",
       "    <tr>\n",
       "      <th>min</th>\n",
       "      <td>21.000000</td>\n",
       "    </tr>\n",
       "    <tr>\n",
       "      <th>25%</th>\n",
       "      <td>56.000000</td>\n",
       "    </tr>\n",
       "    <tr>\n",
       "      <th>50%</th>\n",
       "      <td>63.000000</td>\n",
       "    </tr>\n",
       "    <tr>\n",
       "      <th>75%</th>\n",
       "      <td>76.000000</td>\n",
       "    </tr>\n",
       "    <tr>\n",
       "      <th>max</th>\n",
       "      <td>109.000000</td>\n",
       "    </tr>\n",
       "  </tbody>\n",
       "</table>\n",
       "</div>"
      ],
      "text/plain": [
       "             count\n",
       "count  6493.000000\n",
       "mean     64.574311\n",
       "std      16.501038\n",
       "min      21.000000\n",
       "25%      56.000000\n",
       "50%      63.000000\n",
       "75%      76.000000\n",
       "max     109.000000"
      ]
     },
     "execution_count": 1246,
     "metadata": {},
     "output_type": "execute_result"
    }
   ],
   "source": [
    "submission.describe()"
   ]
  },
  {
   "cell_type": "code",
   "execution_count": 1247,
   "id": "ea8aeaec-40cf-4d43-a8e7-5fefa99e2607",
   "metadata": {},
   "outputs": [],
   "source": [
    "submission.to_csv('output/submission.csv',index=False)"
   ]
  },
  {
   "cell_type": "code",
   "execution_count": null,
   "id": "8b80fa51-408d-4bf2-8416-6e5847737a2c",
   "metadata": {},
   "outputs": [],
   "source": []
  }
 ],
 "metadata": {
  "kernelspec": {
   "display_name": "Python 3 (ipykernel)",
   "language": "python",
   "name": "python3"
  },
  "language_info": {
   "codemirror_mode": {
    "name": "ipython",
    "version": 3
   },
   "file_extension": ".py",
   "mimetype": "text/x-python",
   "name": "python",
   "nbconvert_exporter": "python",
   "pygments_lexer": "ipython3",
   "version": "3.9.7"
  }
 },
 "nbformat": 4,
 "nbformat_minor": 5
}
